{
  "nbformat": 4,
  "nbformat_minor": 0,
  "metadata": {
    "colab": {
      "provenance": [],
      "authorship_tag": "ABX9TyOY2lxroV8ve5K2RJmLtUrD",
      "include_colab_link": true
    },
    "kernelspec": {
      "name": "python3",
      "display_name": "Python 3"
    },
    "language_info": {
      "name": "python"
    }
  },
  "cells": [
    {
      "cell_type": "markdown",
      "metadata": {
        "id": "view-in-github",
        "colab_type": "text"
      },
      "source": [
        "<a href=\"https://colab.research.google.com/github/Siddhesh-07/Web_scraper/blob/main/Python_Operators.ipynb\" target=\"_parent\"><img src=\"https://colab.research.google.com/assets/colab-badge.svg\" alt=\"Open In Colab\"/></a>"
      ]
    },
    {
      "cell_type": "markdown",
      "source": [
        "1.  Calculate the sum, difference, product, and quotient of two numbers.  "
      ],
      "metadata": {
        "id": "cwV_vZixvMuq"
      }
    },
    {
      "cell_type": "code",
      "execution_count": null,
      "metadata": {
        "colab": {
          "base_uri": "https://localhost:8080/"
        },
        "id": "JUXdW6wwpIo-",
        "outputId": "3a7999e6-6e86-45e8-c43f-889ec94f09cb"
      },
      "outputs": [
        {
          "output_type": "stream",
          "name": "stdout",
          "text": [
            "Enter number 1: 16\n",
            "Enter number 2: 4\n",
            "1. Addition\n",
            "2. Subtraction\n",
            "3. Multilication\n",
            "4. Division\n",
            "Select the Operation (1/2/3/4):4\n",
            "4.0\n"
          ]
        }
      ],
      "source": [
        "num1 = int(input(\"Enter number 1: \"))\n",
        "num2 = int(input(\"Enter number 2: \"))\n",
        "def add(num1,num2):\n",
        "  res = num1 + num2\n",
        "  print(res)\n",
        "\n",
        "def sub(num1,num2):\n",
        "  res = num2 - num1\n",
        "  print(res)\n",
        "\n",
        "def mul(num1,num2):\n",
        "  res = num1 * num2\n",
        "  print(res)\n",
        "\n",
        "def div(num1,num2):\n",
        "  res = num1 / num2\n",
        "  print(res)\n",
        "\n",
        "print('1. Addition')\n",
        "print('2. Subtraction')\n",
        "print('3. Multilication')\n",
        "print('4. Division')\n",
        "op = input('Select the Operation (1/2/3/4):')\n",
        "\n",
        "if op == '1':\n",
        "  add(num1,num2)\n",
        "\n",
        "elif op == '2':\n",
        "  sub(num1,num2)\n",
        "\n",
        "elif op == '3':\n",
        "  mul(num1,num2)\n",
        "\n",
        "elif op == '4':\n",
        "  div(num1,num2)\n",
        "\n",
        "else:\n",
        "  print(\"Enter valid choice\")"
      ]
    },
    {
      "cell_type": "markdown",
      "source": [
        "2.  Perform various assignment operations on a variable.   "
      ],
      "metadata": {
        "id": "_x6cTADev0Mv"
      }
    },
    {
      "cell_type": "code",
      "source": [
        "a = 5\n",
        "b = 2\n",
        "c = a+b\n",
        "c"
      ],
      "metadata": {
        "colab": {
          "base_uri": "https://localhost:8080/"
        },
        "id": "IjGJjxC2tk2d",
        "outputId": "7bccf04e-2bee-4615-8665-ceb73ef81d01"
      },
      "execution_count": null,
      "outputs": [
        {
          "output_type": "execute_result",
          "data": {
            "text/plain": [
              "7"
            ]
          },
          "metadata": {},
          "execution_count": 10
        }
      ]
    },
    {
      "cell_type": "code",
      "source": [
        "b += a\n",
        "b"
      ],
      "metadata": {
        "colab": {
          "base_uri": "https://localhost:8080/"
        },
        "id": "oVzdu7bWv-uf",
        "outputId": "164c5e3a-6b85-4fad-d18b-88bda072b267"
      },
      "execution_count": null,
      "outputs": [
        {
          "output_type": "execute_result",
          "data": {
            "text/plain": [
              "7"
            ]
          },
          "metadata": {},
          "execution_count": 11
        }
      ]
    },
    {
      "cell_type": "code",
      "source": [
        "b -= 1\n",
        "b"
      ],
      "metadata": {
        "colab": {
          "base_uri": "https://localhost:8080/"
        },
        "id": "GHXULEKcwG1W",
        "outputId": "358c6e0e-4841-4aa9-efed-f8ed068f35b4"
      },
      "execution_count": null,
      "outputs": [
        {
          "output_type": "execute_result",
          "data": {
            "text/plain": [
              "1"
            ]
          },
          "metadata": {},
          "execution_count": 13
        }
      ]
    },
    {
      "cell_type": "code",
      "source": [
        "a *= 2\n",
        "a"
      ],
      "metadata": {
        "colab": {
          "base_uri": "https://localhost:8080/"
        },
        "id": "rdDHqbmNwK3M",
        "outputId": "5873517f-5768-47db-ceb2-7f4b4c832011"
      },
      "execution_count": null,
      "outputs": [
        {
          "output_type": "execute_result",
          "data": {
            "text/plain": [
              "10"
            ]
          },
          "metadata": {},
          "execution_count": 16
        }
      ]
    },
    {
      "cell_type": "markdown",
      "source": [
        "3. Compare two numbers and print the results.\n",
        "4. Check conditions using logical operators."
      ],
      "metadata": {
        "id": "lqzTrcPKwgC9"
      }
    },
    {
      "cell_type": "code",
      "source": [
        "a = 10\n",
        "b = 5"
      ],
      "metadata": {
        "id": "KmYKjbtQxapP"
      },
      "execution_count": null,
      "outputs": []
    },
    {
      "cell_type": "code",
      "source": [
        "if a > b:\n",
        "  print(f'{a} is greater than {b}')"
      ],
      "metadata": {
        "colab": {
          "base_uri": "https://localhost:8080/"
        },
        "id": "Cks_2NErw49C",
        "outputId": "13a5ff15-2da0-4af4-840f-7a1e81a9e76c"
      },
      "execution_count": null,
      "outputs": [
        {
          "output_type": "stream",
          "name": "stdout",
          "text": [
            "10 is greater than 5\n"
          ]
        }
      ]
    },
    {
      "cell_type": "code",
      "source": [
        "if b < a:\n",
        "  print(f'{b} is smaller than {a}')"
      ],
      "metadata": {
        "colab": {
          "base_uri": "https://localhost:8080/"
        },
        "id": "T5VPOHa-xLN_",
        "outputId": "67edec08-4eae-4e9b-b8b3-5c869d8636bc"
      },
      "execution_count": null,
      "outputs": [
        {
          "output_type": "stream",
          "name": "stdout",
          "text": [
            "5 is smaller than 10\n"
          ]
        }
      ]
    },
    {
      "cell_type": "code",
      "source": [
        "if a != b:\n",
        "  print(f'{a} and {b} are not equal')"
      ],
      "metadata": {
        "colab": {
          "base_uri": "https://localhost:8080/"
        },
        "id": "J3TEFaq_xVcU",
        "outputId": "5180fd93-41b8-45e9-a4d7-8f358e4cd964"
      },
      "execution_count": null,
      "outputs": [
        {
          "output_type": "stream",
          "name": "stdout",
          "text": [
            "10 and 5 are not equal\n"
          ]
        }
      ]
    },
    {
      "cell_type": "markdown",
      "source": [
        "5. Check the identity of variables.  "
      ],
      "metadata": {
        "id": "fFTM4a4NyWEm"
      }
    },
    {
      "cell_type": "code",
      "source": [
        "num = 10\n",
        "mystr = 'Hello World'\n",
        "\n",
        "print(\"Id of num is: \",id(num))\n",
        "print(\"Id of mystr is: \",id(mystr))"
      ],
      "metadata": {
        "colab": {
          "base_uri": "https://localhost:8080/"
        },
        "id": "A-uiQ6spyXhB",
        "outputId": "d9cf9606-603b-4394-9cec-1f017d635019"
      },
      "execution_count": null,
      "outputs": [
        {
          "output_type": "stream",
          "name": "stdout",
          "text": [
            "Id of num is:  139983286256144\n",
            "Id of mystr is:  139982005864432\n"
          ]
        }
      ]
    },
    {
      "cell_type": "markdown",
      "source": [
        "6.  Perform bitwise operations on any two integers.  "
      ],
      "metadata": {
        "id": "CcMZYV8K0U_5"
      }
    },
    {
      "cell_type": "code",
      "source": [
        "x = 5\n",
        "y = 8\n",
        "print(\"x & y =\", x & y)"
      ],
      "metadata": {
        "colab": {
          "base_uri": "https://localhost:8080/"
        },
        "id": "eBqFduBByZnT",
        "outputId": "f012618c-ab4a-4525-ffd3-0e835df03cfa"
      },
      "execution_count": null,
      "outputs": [
        {
          "output_type": "stream",
          "name": "stdout",
          "text": [
            "x & y = 0\n"
          ]
        }
      ]
    },
    {
      "cell_type": "code",
      "source": [
        "print(\"x | y =\", x | y)"
      ],
      "metadata": {
        "colab": {
          "base_uri": "https://localhost:8080/"
        },
        "id": "O-iNjBF50ago",
        "outputId": "2c015e61-7257-4f09-8611-a5bde7bfcc7a"
      },
      "execution_count": null,
      "outputs": [
        {
          "output_type": "stream",
          "name": "stdout",
          "text": [
            "x | y = 13\n"
          ]
        }
      ]
    },
    {
      "cell_type": "markdown",
      "source": [
        "7.  Use unary operators to change the sign of a number."
      ],
      "metadata": {
        "id": "94z5NYIn0wQG"
      }
    },
    {
      "cell_type": "code",
      "source": [
        "print(-4)\n",
        "print(-4.0)\n",
        "print(-4j)"
      ],
      "metadata": {
        "colab": {
          "base_uri": "https://localhost:8080/"
        },
        "id": "budWnfiO0usi",
        "outputId": "0b0e9924-ebe6-43d5-fc33-bb91c8cd4468"
      },
      "execution_count": null,
      "outputs": [
        {
          "output_type": "stream",
          "name": "stdout",
          "text": [
            "-4\n",
            "-4.0\n",
            "(-0-4j)\n"
          ]
        }
      ]
    },
    {
      "cell_type": "markdown",
      "source": [
        "8.  Use the ternary operator to assign values based on conditions.  "
      ],
      "metadata": {
        "id": "l1pX0ngZ1rHF"
      }
    },
    {
      "cell_type": "code",
      "source": [
        "# Python program to demonstrate nested ternary operator\n",
        "a, b = 10, 20\n",
        "\n",
        "print (\"Both a and b are equal\" if a == b else \"a is greater than b\"\n",
        "\t\tif a > b else \"b is greater than a\")\n"
      ],
      "metadata": {
        "colab": {
          "base_uri": "https://localhost:8080/"
        },
        "id": "ZHEV07ug1f5G",
        "outputId": "ae37ed81-3b23-4c29-f8e0-7c6ac09b8259"
      },
      "execution_count": null,
      "outputs": [
        {
          "output_type": "stream",
          "name": "stdout",
          "text": [
            "b is greater than a\n"
          ]
        }
      ]
    }
  ]
}